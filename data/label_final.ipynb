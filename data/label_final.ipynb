{
 "cells": [
  {
   "cell_type": "code",
   "execution_count": 1,
   "id": "70a7ca27-ca22-434d-9979-7bc871b57404",
   "metadata": {},
   "outputs": [],
   "source": [
    "import pandas as pd\n",
    "import re\n",
    "import time\n",
    "\n",
    "pattern = r'\\d+'\n",
    "\n",
    "df = pd.read_csv('Restaurant_reviews.csv')\n",
    "df_copy = df.copy()\n",
    "\n",
    "import google.auth\n",
    "import google.generativeai as genai\n",
    "\n",
    "genai.configure(api_key=\"isi-api-key-disini\")"
   ]
  },
  {
   "cell_type": "code",
   "execution_count": 2,
   "id": "d42e6824-c322-4d85-85dc-79cda324b627",
   "metadata": {},
   "outputs": [],
   "source": [
    "def get_label(text):\n",
    "    model = genai.GenerativeModel('gemini-1.5-flash')\n",
    "    input_text = f\"Labellah review berikut: '{text}' \\nDengan ketentuan 0=negatif, 1=netral, 2=positif.\\nContoh:\\nfood : 0, service : 1, ambience : 0, price : 2\\njika tidak disebutkan maka anggap saja netral. Untuk aspect pada labelnya hanya 4 saja, yaitu food, service, ambience, price. Serta keterangan setelah labelnya tidak perlu\"\n",
    "    response = model.generate_content(input_text)\n",
    "    resp = response.text\n",
    "    return resp"
   ]
  },
  {
   "cell_type": "code",
   "execution_count": 3,
   "id": "1f950a8a-2ca3-4c42-8e0f-79c7dfe100a0",
   "metadata": {},
   "outputs": [],
   "source": [
    "food = []\n",
    "service = []\n",
    "ambiance = []\n",
    "price = []"
   ]
  },
  {
   "cell_type": "code",
   "execution_count": 59,
   "id": "ec123d57-38f1-4fda-a54f-ba3b5797f100",
   "metadata": {},
   "outputs": [
    {
     "name": "stdout",
     "output_type": "stream",
     "text": [
      "food : 0, service : 2, ambience : 2, price : 1 \n",
      "\n",
      "Iterasi ke - 228\n",
      "food: 2, service: 1, ambience: 1, price: 1 \n",
      "\n",
      "Iterasi ke - 229\n",
      "food: 1\n",
      "service: 1\n",
      "ambience: 1\n",
      "price: 1 \n",
      "\n",
      "Iterasi ke - 230\n",
      "food: 1\n",
      "service: 2\n",
      "ambience: 1\n",
      "price: 1 \n",
      "\n",
      "Iterasi ke - 231\n",
      "food: 2, service: 2, ambience: 1, price: 1 \n",
      "\n",
      "Iterasi ke - 232\n",
      "food : 2, service : 2, ambience : 2, price : 1 \n",
      "\n",
      "Iterasi ke - 233\n",
      "food: 2\n",
      "service: 2\n",
      "ambience: 1\n",
      "price: 1 \n",
      "\n",
      "Iterasi ke - 234\n",
      "food: 2\n",
      "service: 2\n",
      "ambience: 2\n",
      "price: 1 \n",
      "\n",
      "Iterasi ke - 235\n",
      "food : 2\n",
      "service : 2\n",
      "ambience : 1\n",
      "price : 1 \n",
      "\n",
      "Iterasi ke - 236\n",
      "food: 2\n",
      "service: 2\n",
      "ambience: 2\n",
      "price: 1 \n",
      "\n",
      "Iterasi ke - 237\n",
      "food: 2, service: 2, ambience: 1, price: 1 \n",
      "\n",
      "Iterasi ke - 238\n",
      "food : 2, service : 2, ambience : 1, price : 1 \n",
      "\n",
      "Iterasi ke - 239\n",
      "service : 2 \n",
      "\n"
     ]
    },
    {
     "ename": "IndexError",
     "evalue": "list index out of range",
     "output_type": "error",
     "traceback": [
      "\u001b[1;31m---------------------------------------------------------------------------\u001b[0m",
      "\u001b[1;31mIndexError\u001b[0m                                Traceback (most recent call last)",
      "Cell \u001b[1;32mIn[59], line 10\u001b[0m\n\u001b[0;32m      8\u001b[0m numbers \u001b[38;5;241m=\u001b[39m \u001b[38;5;28mlist\u001b[39m(\u001b[38;5;28mmap\u001b[39m(\u001b[38;5;28mint\u001b[39m, numbers))\n\u001b[0;32m      9\u001b[0m food\u001b[38;5;241m.\u001b[39mappend(\u001b[38;5;28mint\u001b[39m(numbers[\u001b[38;5;241m0\u001b[39m]))\n\u001b[1;32m---> 10\u001b[0m service\u001b[38;5;241m.\u001b[39mappend(\u001b[38;5;28mint\u001b[39m(\u001b[43mnumbers\u001b[49m\u001b[43m[\u001b[49m\u001b[38;5;241;43m1\u001b[39;49m\u001b[43m]\u001b[49m))\n\u001b[0;32m     11\u001b[0m ambiance\u001b[38;5;241m.\u001b[39mappend(\u001b[38;5;28mint\u001b[39m(numbers[\u001b[38;5;241m2\u001b[39m]))\n\u001b[0;32m     12\u001b[0m price\u001b[38;5;241m.\u001b[39mappend(\u001b[38;5;28mint\u001b[39m(numbers[\u001b[38;5;241m3\u001b[39m]))\n",
      "\u001b[1;31mIndexError\u001b[0m: list index out of range"
     ]
    }
   ],
   "source": [
    "# j = 0\n",
    "for i in range (228,400):\n",
    "    time.sleep(2)\n",
    "    text = df[\"Review\"][i]\n",
    "    respon = get_label(text)\n",
    "    print(respon)\n",
    "    numbers = re.findall(pattern, respon)\n",
    "    numbers = list(map(int, numbers))\n",
    "    food.append(int(numbers[0]))\n",
    "    service.append(int(numbers[1]))\n",
    "    ambiance.append(int(numbers[2]))\n",
    "    price.append(int(numbers[3]))\n",
    "    # input_.append(input_token)\n",
    "    # output_.append(output_token)\n",
    "    print(f\"Iterasi ke - {i}\")\n",
    "    # j+=1\n",
    "    # if j == 500:\n",
    "    #     time.sleep(30)\n",
    "    #     j = 0"
   ]
  },
  {
   "cell_type": "code",
   "execution_count": null,
   "id": "d4031f39-299b-4f20-a7b1-49fc4db7737d",
   "metadata": {},
   "outputs": [],
   "source": [
    "df_array1 = pd.DataFrame({'food': food})\n",
    "df_array2 = pd.DataFrame({'service': service})\n",
    "df_array3 = pd.DataFrame({'ambience': ambiance})\n",
    "df_array4 = pd.DataFrame({'price': price})\n",
    "# Menggabungkan DataFrame\n",
    "df_combined = pd.concat([df_copy, df_array1, df_array2, df_array3, df_array4], axis=1)\n",
    "\n",
    "# Menyimpan DataFrame gabungan ke dalam file CSV\n",
    "df_combined.to_csv('combined_dataset.csv', index=False)\n",
    "\n",
    "print(\"CSV file telah dibuat: combined_dataset.csv\")"
   ]
  },
  {
   "cell_type": "code",
   "execution_count": 6,
   "id": "d20f1845-7ada-4add-9c69-0d041da5cfea",
   "metadata": {},
   "outputs": [
    {
     "data": {
      "text/plain": [
       "\"Md. Sabir is very good at service. Must try this place if you're nearby.. staff is very professional polite and friendly. They'll make you feel comfortable\""
      ]
     },
     "execution_count": 6,
     "metadata": {},
     "output_type": "execute_result"
    }
   ],
   "source": [
    "df[\"Review\"][227]"
   ]
  },
  {
   "cell_type": "code",
   "execution_count": 7,
   "id": "1cbd044e-8260-47ad-b6f8-9b6d8556b3c9",
   "metadata": {},
   "outputs": [
    {
     "data": {
      "text/plain": [
       "'Excellent service and ambience and very friendly staff. Thank you Ranjan and Sadddam and Raja for the wonderful service. Will surely visit for a fun time again'"
      ]
     },
     "execution_count": 7,
     "metadata": {},
     "output_type": "execute_result"
    }
   ],
   "source": [
    "df[\"Review\"][226]"
   ]
  },
  {
   "cell_type": "code",
   "execution_count": 8,
   "id": "931d054d-0f7a-4a6a-a8dc-5f102ad47a6a",
   "metadata": {},
   "outputs": [
    {
     "data": {
      "text/plain": [
       "\"Heard about this restaurant from a friend and choose this place to have team lunch.\\n\\nRating\\n\\nAmbiance: 4\\nFood :3\\nService :4\\n\\nThere were many items on list but taste was not so good.\\n\\nDon't be fooled by word unlimited beverages. only a single type of beverage is unlimited and you can't choose the flavour.\\n\\nTotally felt disappointed by taste but customer service was good.\""
      ]
     },
     "execution_count": 8,
     "metadata": {},
     "output_type": "execute_result"
    }
   ],
   "source": [
    "df[\"Review\"][228]"
   ]
  },
  {
   "cell_type": "code",
   "execution_count": 9,
   "id": "1230feb6-bd65-43f2-a116-cbdd22cbde7d",
   "metadata": {},
   "outputs": [
    {
     "name": "stdout",
     "output_type": "stream",
     "text": [
      "[2, 2, 2, 2, 2, 2, 2, 1, 2, 2, 2, 2, 2, 2, 0, 2, 2, 2, 1, 2, 2, 1, 2, 2, 2, 2, 2, 2, 2, 1, 1, 2, 1, 2, 2, 2, 2, 2, 2, 2, 2, 2, 1, 2, 2, 1, 2, 1, 1, 2, 2, 2, 2, 2, 1, 2, 1, 2, 2, 2, 2, 2, 2, 2, 2, 2, 0, 2, 2, 2, 2, 2, 2, 2, 2, 0, 2, 2, 2, 0, 0, 2, 2, 0, 0, 2, 2, 2, 2, 0, 2, 2, 1, 1, 2, 1, 2, 2, 0, 2, 2, 2, 2, 2, 2, 2, 2, 2, 2, 2, 2, 2, 2, 2, 2, 2, 2, 2, 2, 2, 2, 2, 2, 0, 2, 2, 2, 2, 2, 2, 2, 2, 2, 2, 2, 2, 2, 0, 2, 2, 0, 2, 2, 2, 2, 2, 2, 2, 2, 2, 2, 2, 2, 2, 2, 2, 2, 2, 2, 2, 2, 2, 1, 0, 2, 2, 2, 2, 2, 2, 2, 2, 2, 2, 2, 2, 2, 2, 2, 2, 2, 2, 2, 2, 2, 2, 2, 2, 2, 2, 2, 2, 2, 2, 2, 2, 2, 2, 2, 2, 0, 2, 2, 2, 2, 2, 2, 2, 2, 2, 2, 2, 2, 2, 2, 2, 0, 2, 0, 2, 2, 2, 2, 1, 2, 2, 1, 2]\n",
      "[2, 2, 2, 2, 2, 2, 2, 2, 2, 2, 2, 2, 2, 2, 0, 2, 2, 2, 2, 2, 2, 1, 1, 2, 2, 1, 1, 1, 1, 0, 1, 2, 2, 2, 2, 2, 2, 2, 2, 2, 2, 2, 2, 2, 2, 0, 2, 2, 2, 2, 2, 2, 2, 2, 2, 2, 1, 2, 2, 0, 2, 2, 1, 2, 2, 2, 0, 1, 2, 2, 2, 2, 2, 1, 2, 0, 1, 1, 2, 1, 0, 2, 2, 0, 0, 2, 2, 2, 2, 1, 1, 0, 0, 0, 1, 0, 2, 2, 0, 2, 2, 1, 2, 1, 2, 1, 2, 2, 1, 1, 2, 1, 2, 2, 2, 2, 2, 2, 2, 2, 2, 2, 1, 1, 2, 2, 2, 2, 2, 1, 2, 2, 2, 2, 2, 2, 1, 0, 2, 2, 1, 2, 2, 2, 2, 2, 2, 2, 2, 2, 2, 2, 2, 2, 2, 2, 2, 2, 2, 2, 2, 0, 2, 0, 1, 2, 2, 2, 2, 2, 2, 2, 2, 2, 2, 2, 2, 2, 2, 2, 2, 2, 2, 2, 1, 2, 2, 2, 2, 2, 2, 2, 2, 2, 2, 2, 2, 2, 1, 2, 1, 1, 2, 2, 2, 2, 1, 2, 2, 2, 2, 2, 2, 2, 2, 1, 1, 2, 0, 2, 1, 2, 2, 2, 2, 1, 2, 1]\n",
      "[2, 2, 2, 1, 2, 2, 2, 2, 1, 2, 1, 2, 1, 1, 1, 2, 2, 1, 2, 1, 2, 1, 1, 1, 2, 2, 2, 1, 2, 1, 1, 2, 2, 2, 2, 1, 2, 1, 2, 1, 1, 2, 2, 1, 1, 1, 2, 1, 2, 2, 1, 1, 1, 2, 1, 2, 1, 2, 1, 1, 2, 2, 2, 1, 2, 2, 0, 2, 1, 2, 1, 1, 2, 2, 2, 1, 2, 2, 2, 0, 0, 2, 2, 2, 1, 1, 2, 2, 1, 1, 2, 2, 1, 1, 2, 1, 2, 2, 0, 2, 2, 1, 2, 2, 1, 1, 1, 2, 1, 1, 2, 1, 1, 1, 2, 2, 2, 2, 1, 1, 2, 1, 2, 1, 1, 1, 2, 2, 2, 1, 2, 1, 1, 2, 1, 1, 2, 1, 1, 2, 0, 2, 2, 1, 1, 1, 1, 2, 1, 1, 1, 1, 1, 2, 1, 2, 1, 1, 1, 2, 2, 1, 1, 2, 1, 2, 2, 2, 1, 1, 2, 1, 1, 2, 1, 2, 1, 2, 2, 1, 2, 1, 2, 1, 2, 1, 1, 1, 1, 2, 1, 1, 2, 1, 2, 1, 2, 1, 2, 1, 1, 2, 2, 1, 1, 1, 2, 2, 2, 1, 1, 2, 1, 1, 1, 1, 1, 1, 2, 2, 1, 2, 1, 0, 2, 1, 2, 1]\n",
      "[2, 1, 1, 1, 1, 1, 2, 1, 1, 1, 1, 1, 1, 1, 1, 1, 1, 1, 1, 1, 2, 0, 1, 1, 1, 1, 1, 1, 1, 1, 1, 1, 1, 1, 1, 2, 1, 1, 1, 1, 1, 1, 1, 2, 1, 1, 1, 1, 1, 1, 1, 1, 1, 2, 1, 1, 0, 1, 1, 1, 1, 1, 1, 1, 1, 1, 1, 1, 1, 1, 1, 1, 1, 2, 1, 1, 0, 1, 1, 0, 1, 1, 2, 1, 1, 1, 1, 1, 1, 1, 1, 1, 1, 1, 2, 1, 1, 1, 1, 1, 1, 1, 1, 1, 1, 1, 2, 1, 1, 1, 1, 1, 1, 1, 1, 1, 1, 1, 1, 1, 1, 1, 1, 0, 1, 1, 1, 1, 1, 1, 1, 1, 1, 1, 1, 1, 1, 1, 1, 1, 1, 1, 1, 1, 1, 1, 0, 1, 1, 1, 1, 1, 1, 1, 2, 1, 1, 1, 1, 1, 1, 1, 1, 1, 1, 1, 1, 1, 1, 1, 1, 1, 1, 1, 1, 1, 2, 1, 1, 1, 1, 1, 1, 1, 1, 1, 1, 1, 1, 1, 1, 1, 1, 1, 1, 1, 1, 1, 1, 1, 0, 1, 1, 1, 1, 1, 1, 1, 1, 1, 1, 1, 1, 2, 1, 1, 1, 1, 1, 1, 1, 1, 1, 1, 1, 1, 1]\n"
     ]
    }
   ],
   "source": [
    "print(food)\n",
    "print(service)\n",
    "print(ambiance)\n",
    "print(price)"
   ]
  },
  {
   "cell_type": "code",
   "execution_count": 12,
   "id": "51c39843-8e51-4ff0-a192-31cca708f4a3",
   "metadata": {},
   "outputs": [
    {
     "name": "stdout",
     "output_type": "stream",
     "text": [
      "228\n"
     ]
    }
   ],
   "source": [
    "print(len(ambiance))"
   ]
  },
  {
   "cell_type": "code",
   "execution_count": null,
   "id": "e89b5e6f-ac53-4425-9764-8fddd05489a5",
   "metadata": {},
   "outputs": [],
   "source": [
    "df[\"Review\"][227]"
   ]
  },
  {
   "cell_type": "code",
   "execution_count": 55,
   "id": "f3c030d7-86d5-42e1-9c27-6d04b9f089b6",
   "metadata": {},
   "outputs": [],
   "source": [
    "text_test = df[\"Review\"][227]\n",
    "respon_test = get_label(text_test)\n",
    "numbers_test = re.findall(pattern, respon_test)\n",
    "numbers_test_test = list(map(int, numbers_test))\n"
   ]
  },
  {
   "cell_type": "code",
   "execution_count": 57,
   "id": "3277502e-edfe-4813-a78c-b9d7b5332820",
   "metadata": {},
   "outputs": [],
   "source": [
    "food.append(int(numbers_test_test[0]))\n",
    "service.append(int(numbers_test_test[1]))\n",
    "ambiance.append(int(numbers_test_test[2]))\n",
    "price.append(int(numbers_test_test[3]))"
   ]
  },
  {
   "cell_type": "code",
   "execution_count": 56,
   "id": "0cc00aa1-ece9-4f6b-93e9-e6b5c5086dcf",
   "metadata": {},
   "outputs": [
    {
     "name": "stdout",
     "output_type": "stream",
     "text": [
      "[1, 2, 1, 1]\n"
     ]
    }
   ],
   "source": [
    "print(numbers_test_test)"
   ]
  },
  {
   "cell_type": "code",
   "execution_count": 51,
   "id": "10300f39-132a-4436-8176-6002c9555afb",
   "metadata": {},
   "outputs": [],
   "source": [
    "food = food[:227]\n",
    "service = service[:227]\n",
    "ambiance = ambiance[:227]\n",
    "price = price[:227]"
   ]
  },
  {
   "cell_type": "code",
   "execution_count": 25,
   "id": "f55efc09-fc44-489d-b3bb-03831fc8b01d",
   "metadata": {},
   "outputs": [
    {
     "name": "stdout",
     "output_type": "stream",
     "text": [
      "[2, 2, 2, 2, 2, 2, 2, 1, 2, 2, 2, 2, 2, 2, 0, 2, 2, 2, 1, 2, 2, 1, 2, 2, 2, 2, 2, 2, 2, 1, 1, 2, 1, 2, 2, 2, 2, 2, 2, 2, 2, 2, 1, 2, 2, 1, 2, 1, 1, 2, 2, 2, 2, 2, 1, 2, 1, 2, 2, 2, 2, 2, 2, 2, 2, 2, 0, 2, 2, 2, 2, 2, 2, 2, 2, 0, 2, 2, 2, 0, 0, 2, 2, 0, 0, 2, 2, 2, 2, 0, 2, 2, 1, 1, 2, 1, 2, 2, 0, 2, 2, 2, 2, 2, 2, 2, 2, 2, 2, 2, 2, 2, 2, 2, 2, 2, 2, 2, 2, 2, 2, 2, 2, 0, 2, 2, 2, 2, 2, 2, 2, 2, 2, 2, 2, 2, 2, 0, 2, 2, 0, 2, 2, 2, 2, 2, 2, 2, 2, 2, 2, 2, 2, 2, 2, 2, 2, 2, 2, 2, 2, 2, 1, 0, 2, 2, 2, 2, 2, 2, 2, 2, 2, 2, 2, 2, 2, 2, 2, 2, 2, 2, 2, 2, 2, 2, 2, 2, 2, 2, 2, 2, 2, 2, 2, 2, 2, 2, 2, 2]\n",
      "[2, 2, 2, 2, 2, 2, 2, 2, 2, 2, 2, 2, 2, 2, 0, 2, 2, 2, 2, 2, 2, 1, 1, 2, 2, 1, 1, 1, 1, 0, 1, 2, 2, 2, 2, 2, 2, 2, 2, 2, 2, 2, 2, 2, 2, 0, 2, 2, 2, 2, 2, 2, 2, 2, 2, 2, 1, 2, 2, 0, 2, 2, 1, 2, 2, 2, 0, 1, 2, 2, 2, 2, 2, 1, 2, 0, 1, 1, 2, 1, 0, 2, 2, 0, 0, 2, 2, 2, 2, 1, 1, 0, 0, 0, 1, 0, 2, 2, 0, 2, 2, 1, 2, 1, 2, 1, 2, 2, 1, 1, 2, 1, 2, 2, 2, 2, 2, 2, 2, 2, 2, 2, 1, 1, 2, 2, 2, 2, 2, 1, 2, 2, 2, 2, 2, 2, 1, 0, 2, 2, 1, 2, 2, 2, 2, 2, 2, 2, 2, 2, 2, 2, 2, 2, 2, 2, 2, 2, 2, 2, 2, 0, 2, 0, 1, 2, 2, 2, 2, 2, 2, 2, 2, 2, 2, 2, 2, 2, 2, 2, 2, 2, 2, 2, 1, 2, 2, 2, 2, 2, 2, 2, 2, 2, 2, 2, 2, 2, 1, 2]\n",
      "[2, 2, 2, 1, 2, 2, 2, 2, 1, 2, 1, 2, 1, 1, 1, 2, 2, 1, 2, 1, 2, 1, 1, 1, 2, 2, 2, 1, 2, 1, 1, 2, 2, 2, 2, 1, 2, 1, 2, 1, 1, 2, 2, 1, 1, 1, 2, 1, 2, 2, 1, 1, 1, 2, 1, 2, 1, 2, 1, 1, 2, 2, 2, 1, 2, 2, 0, 2, 1, 2, 1, 1, 2, 2, 2, 1, 2, 2, 2, 0, 0, 2, 2, 2, 1, 1, 2, 2, 1, 1, 2, 2, 1, 1, 2, 1, 2, 2, 0, 2, 2, 1, 2, 2, 1, 1, 1, 2, 1, 1, 2, 1, 1, 1, 2, 2, 2, 2, 1, 1, 2, 1, 2, 1, 1, 1, 2, 2, 2, 1, 2, 1, 1, 2, 1, 1, 2, 1, 1, 2, 0, 2, 2, 1, 1, 1, 1, 2, 1, 1, 1, 1, 1, 2, 1, 2, 1, 1, 1, 2, 2, 1, 1, 2, 1, 2, 2, 2, 1, 1, 2, 1, 1, 2, 1, 2, 1, 2, 2, 1, 2, 1, 2, 1, 2, 1, 1, 1, 1, 2, 1, 1, 2, 1, 2, 1, 2, 1, 2, 1]\n",
      "[2, 1, 1, 1, 1, 1, 2, 1, 1, 1, 1, 1, 1, 1, 1, 1, 1, 1, 1, 1, 2, 0, 1, 1, 1, 1, 1, 1, 1, 1, 1, 1, 1, 1, 1, 2, 1, 1, 1, 1, 1, 1, 1, 2, 1, 1, 1, 1, 1, 1, 1, 1, 1, 2, 1, 1, 0, 1, 1, 1, 1, 1, 1, 1, 1, 1, 1, 1, 1, 1, 1, 1, 1, 2, 1, 1, 0, 1, 1, 0, 1, 1, 2, 1, 1, 1, 1, 1, 1, 1, 1, 1, 1, 1, 2, 1, 1, 1, 1, 1, 1, 1, 1, 1, 1, 1, 2, 1, 1, 1, 1, 1, 1, 1, 1, 1, 1, 1, 1, 1, 1, 1, 1, 0, 1, 1, 1, 1, 1, 1, 1, 1, 1, 1, 1, 1, 1, 1, 1, 1, 1, 1, 1, 1, 1, 1, 0, 1, 1, 1, 1, 1, 1, 1, 2, 1, 1, 1, 1, 1, 1, 1, 1, 1, 1, 1, 1, 1, 1, 1, 1, 1, 1, 1, 1, 1, 2, 1, 1, 1, 1, 1, 1, 1, 1, 1, 1, 1, 1, 1, 1, 1, 1, 1, 1, 1, 1, 1, 1, 1]\n"
     ]
    }
   ],
   "source": [
    "print(food)\n",
    "print(service)\n",
    "print(ambiance)\n",
    "print(price)"
   ]
  },
  {
   "cell_type": "code",
   "execution_count": 49,
   "id": "5ef63139-a62a-45e7-b7e0-873a4e2103f3",
   "metadata": {},
   "outputs": [
    {
     "name": "stdout",
     "output_type": "stream",
     "text": [
      "[2, 2, 2, 2, 2, 2, 2, 1, 2, 2, 2, 2, 2, 2, 0, 2, 2, 2, 1, 2, 2, 1, 2, 2, 2, 2, 2, 2, 2, 1, 1, 2, 1, 2, 2, 2, 2, 2, 2, 2, 2, 2, 1, 2, 2, 1, 2, 1, 1, 2, 2, 2, 2, 2, 1, 2, 1, 2, 2, 2, 2, 2, 2, 2, 2, 2, 0, 2, 2, 2, 2, 2, 2, 2, 2, 0, 2, 2, 2, 0, 0, 2, 2, 0, 0, 2, 2, 2, 2, 0, 2, 2, 1, 1, 2, 1, 2, 2, 0, 2, 2, 2, 2, 2, 2, 2, 2, 2, 2, 2, 2, 2, 2, 2, 2, 2, 2, 2, 2, 2, 2, 2, 2, 0, 2, 2, 2, 2, 2, 2, 2, 2, 2, 2, 2, 2, 2, 0, 2, 2, 0, 2, 2, 2, 2, 2, 2, 2, 2, 2, 2, 2, 2, 2, 2, 2, 2, 2, 2, 2, 2, 2, 1, 0, 2, 2, 2, 2, 2, 2, 2, 2, 2, 2, 2, 2, 2, 2, 2, 2, 2, 2, 2, 2, 2, 2, 2, 2, 2, 2, 2, 2, 2, 2, 2, 2, 2, 2, 2, 2, 0, 2, 2, 2, 2, 2, 2, 2, 2, 2, 2, 2, 2, 2, 2, 2, 0, 2, 0, 2, 2, 2, 2, 1, 2, 2, 1, 1]\n",
      "[2, 2, 2, 2, 2, 2, 2, 2, 2, 2, 2, 2, 2, 2, 0, 2, 2, 2, 2, 2, 2, 1, 1, 2, 2, 1, 1, 1, 1, 0, 1, 2, 2, 2, 2, 2, 2, 2, 2, 2, 2, 2, 2, 2, 2, 0, 2, 2, 2, 2, 2, 2, 2, 2, 2, 2, 1, 2, 2, 0, 2, 2, 1, 2, 2, 2, 0, 1, 2, 2, 2, 2, 2, 1, 2, 0, 1, 1, 2, 1, 0, 2, 2, 0, 0, 2, 2, 2, 2, 1, 1, 0, 0, 0, 1, 0, 2, 2, 0, 2, 2, 1, 2, 1, 2, 1, 2, 2, 1, 1, 2, 1, 2, 2, 2, 2, 2, 2, 2, 2, 2, 2, 1, 1, 2, 2, 2, 2, 2, 1, 2, 2, 2, 2, 2, 2, 1, 0, 2, 2, 1, 2, 2, 2, 2, 2, 2, 2, 2, 2, 2, 2, 2, 2, 2, 2, 2, 2, 2, 2, 2, 0, 2, 0, 1, 2, 2, 2, 2, 2, 2, 2, 2, 2, 2, 2, 2, 2, 2, 2, 2, 2, 2, 2, 1, 2, 2, 2, 2, 2, 2, 2, 2, 2, 2, 2, 2, 2, 1, 2, 1, 1, 2, 2, 2, 2, 1, 2, 2, 2, 2, 2, 2, 2, 2, 1, 1, 2, 0, 2, 1, 2, 2, 2, 2, 1, 2, 2]\n",
      "[2, 2, 2, 1, 2, 2, 2, 2, 1, 2, 1, 2, 1, 1, 1, 2, 2, 1, 2, 1, 2, 1, 1, 1, 2, 2, 2, 1, 2, 1, 1, 2, 2, 2, 2, 1, 2, 1, 2, 1, 1, 2, 2, 1, 1, 1, 2, 1, 2, 2, 1, 1, 1, 2, 1, 2, 1, 2, 1, 1, 2, 2, 2, 1, 2, 2, 0, 2, 1, 2, 1, 1, 2, 2, 2, 1, 2, 2, 2, 0, 0, 2, 2, 2, 1, 1, 2, 2, 1, 1, 2, 2, 1, 1, 2, 1, 2, 2, 0, 2, 2, 1, 2, 2, 1, 1, 1, 2, 1, 1, 2, 1, 1, 1, 2, 2, 2, 2, 1, 1, 2, 1, 2, 1, 1, 1, 2, 2, 2, 1, 2, 1, 1, 2, 1, 1, 2, 1, 1, 2, 0, 2, 2, 1, 1, 1, 1, 2, 1, 1, 1, 1, 1, 2, 1, 2, 1, 1, 1, 2, 2, 1, 1, 2, 1, 2, 2, 2, 1, 1, 2, 1, 1, 2, 1, 2, 1, 2, 2, 1, 2, 1, 2, 1, 2, 1, 1, 1, 1, 2, 1, 1, 2, 1, 2, 1, 2, 1, 2, 1, 1, 2, 2, 1, 1, 1, 2, 2, 2, 1, 1, 2, 1, 1, 1, 1, 1, 1, 2, 2, 2, 2, 1, 0, 2, 1, 2, 1]\n",
      "[2, 1, 1, 1, 1, 1, 2, 1, 1, 1, 1, 1, 1, 1, 1, 1, 1, 1, 1, 1, 2, 0, 1, 1, 1, 1, 1, 1, 1, 1, 1, 1, 1, 1, 1, 2, 1, 1, 1, 1, 1, 1, 1, 2, 1, 1, 1, 1, 1, 1, 1, 1, 1, 2, 1, 1, 0, 1, 1, 1, 1, 1, 1, 1, 1, 1, 1, 1, 1, 1, 1, 1, 1, 2, 1, 1, 0, 1, 1, 0, 1, 1, 2, 1, 1, 1, 1, 1, 1, 1, 1, 1, 1, 1, 2, 1, 1, 1, 1, 1, 1, 1, 1, 1, 1, 1, 2, 1, 1, 1, 1, 1, 1, 1, 1, 1, 1, 1, 1, 1, 1, 1, 1, 0, 1, 1, 1, 1, 1, 1, 1, 1, 1, 1, 1, 1, 1, 1, 1, 1, 1, 1, 1, 1, 1, 1, 0, 1, 1, 1, 1, 1, 1, 1, 2, 1, 1, 1, 1, 1, 1, 1, 1, 1, 1, 1, 1, 1, 1, 1, 1, 1, 1, 1, 1, 1, 2, 1, 1, 1, 1, 1, 1, 1, 1, 1, 1, 1, 1, 1, 1, 1, 1, 1, 1, 1, 1, 1, 1, 1, 0, 1, 1, 1, 1, 1, 1, 1, 1, 1, 1, 1, 1, 2, 1, 1, 1, 1, 1, 1, 1, 1, 1, 1, 1, 1, 1, 1]\n"
     ]
    }
   ],
   "source": [
    "print(food)\n",
    "print(service)\n",
    "print(ambiance)\n",
    "print(price)"
   ]
  },
  {
   "cell_type": "code",
   "execution_count": 58,
   "id": "ed5491e4-99b0-4f51-8f57-cbe9f8d4289e",
   "metadata": {},
   "outputs": [
    {
     "name": "stdout",
     "output_type": "stream",
     "text": [
      "228\n",
      "228\n",
      "228\n",
      "228\n"
     ]
    }
   ],
   "source": [
    "print(len(food))\n",
    "print(len(service))\n",
    "print(len(ambiance))\n",
    "print(len(price))"
   ]
  },
  {
   "cell_type": "code",
   "execution_count": 41,
   "id": "c5fb65d3-2179-461f-884d-33a5748c5757",
   "metadata": {},
   "outputs": [
    {
     "name": "stdout",
     "output_type": "stream",
     "text": [
      "1\n",
      "service: 2, ambience: 1, price: 1 \n",
      "\n"
     ]
    }
   ],
   "source": [
    "print(price[226])\n",
    "print(respon)"
   ]
  },
  {
   "cell_type": "code",
   "execution_count": 28,
   "id": "eda9567f-e2e4-481d-841b-2106dc59e1f2",
   "metadata": {},
   "outputs": [
    {
     "name": "stdout",
     "output_type": "stream",
     "text": [
      "0\n",
      "1\n",
      "2\n",
      "3\n",
      "4\n"
     ]
    }
   ],
   "source": [
    "for k in range(0,5):\n",
    "    print(k)"
   ]
  },
  {
   "cell_type": "code",
   "execution_count": null,
   "id": "ce2b2352-6eec-4dc0-980c-32774e1e84b9",
   "metadata": {},
   "outputs": [],
   "source": []
  }
 ],
 "metadata": {
  "kernelspec": {
   "display_name": "Python 3 (ipykernel)",
   "language": "python",
   "name": "python3"
  },
  "language_info": {
   "codemirror_mode": {
    "name": "ipython",
    "version": 3
   },
   "file_extension": ".py",
   "mimetype": "text/x-python",
   "name": "python",
   "nbconvert_exporter": "python",
   "pygments_lexer": "ipython3",
   "version": "3.11.5"
  }
 },
 "nbformat": 4,
 "nbformat_minor": 5
}
